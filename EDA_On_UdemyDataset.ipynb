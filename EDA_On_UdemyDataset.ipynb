{
  "nbformat": 4,
  "nbformat_minor": 0,
  "metadata": {
    "colab": {
      "provenance": [],
      "toc_visible": true,
      "authorship_tag": "ABX9TyPL50Y3eXr55f6UbVIxQFoe",
      "include_colab_link": true
    },
    "kernelspec": {
      "name": "python3",
      "display_name": "Python 3"
    },
    "language_info": {
      "name": "python"
    }
  },
  "cells": [
    {
      "cell_type": "markdown",
      "metadata": {
        "id": "view-in-github",
        "colab_type": "text"
      },
      "source": [
        "<a href=\"https://colab.research.google.com/github/AAdewunmi/Online-Course-Recommendation-App-Project/blob/main/EDA_On_UdemyDataset.ipynb\" target=\"_parent\"><img src=\"https://colab.research.google.com/assets/colab-badge.svg\" alt=\"Open In Colab\"/></a>"
      ]
    },
    {
      "cell_type": "markdown",
      "source": [
        "\n",
        "\n",
        "# Udemy Dataset EDA README\n",
        "\n",
        "## Overview\n",
        "\n",
        "This project performs **Exploratory Data Analysis (EDA)** on a Udemy courses dataset. The goal is to uncover insights about course content, pricing, subscribers, and trends across time and categories. The analysis leverages Python’s data analysis stack to answer a set of guiding business and product questions.\n",
        "\n",
        "## Objectives\n",
        "\n",
        "The notebook investigates questions such as:\n",
        "\n",
        "* **Course Titles**: frequent words, longest/shortest titles, title-based recommendation ideas.\n",
        "* **Subjects/Categories**: distribution across categories, popularity trends per year, subscriber preferences.\n",
        "* **Published Year**: growth of courses over time, identification of peak years.\n",
        "* **Levels**: distribution of course difficulty levels and their popularity.\n",
        "* **Duration**: how course length correlates with subscribers and pricing.\n",
        "* **Subscribers**: most popular courses, average subscribers, breakdown per subject/year.\n",
        "* **Pricing**: average, minimum, maximum prices, revenue estimates, most profitable courses.\n",
        "* **Correlations**: relationship between subscribers and reviews, price, lectures, and duration.\n",
        "\n",
        "## Tech Stack\n",
        "\n",
        "* **Python 3.x**\n",
        "* **Jupyter Notebook**\n",
        "* Libraries:\n",
        "\n",
        "  * `pandas` for data manipulation\n",
        "  * `numpy` for numerical analysis\n",
        "  * `matplotlib` / `seaborn` for visualization\n",
        "\n",
        "## Repository Contents\n",
        "\n",
        "* `EDA on UdemyDataset.ipynb` – the main notebook with all analysis and visualizations.\n",
        "* `README.md` – this documentation.\n",
        "\n",
        "## How to Run\n",
        "\n",
        "1. Clone this repository.\n",
        "2. Install dependencies:\n",
        "\n",
        "   ```bash\n",
        "   pip install pandas numpy matplotlib seaborn jupyter\n",
        "   ```\n",
        "3. Launch Jupyter Notebook:\n",
        "\n",
        "   ```bash\n",
        "   jupyter notebook\n",
        "   ```\n",
        "4. Open and run all cells in `EDA on UdemyDataset.ipynb`.\n",
        "\n",
        "## Insights (Expected Outcomes)\n",
        "\n",
        "* Identification of which subjects and years drive Udemy’s growth.\n",
        "* Understanding of how pricing and duration influence subscriber numbers.\n",
        "* Discovery of correlations between course metrics (reviews, lectures, duration, price) and popularity.\n",
        "* Recommendations for content strategy and pricing models.\n",
        "\n",
        "---\n",
        "\n"
      ],
      "metadata": {
        "id": "oAbA0iGBJ9xn"
      }
    },
    {
      "cell_type": "markdown",
      "source": [
        "\n",
        "#**Exploratory Data Analysis on UdemyCleanedTitle Dataset**"
      ],
      "metadata": {
        "id": "oiZx2C6jFfH_"
      }
    },
    {
      "cell_type": "code",
      "execution_count": null,
      "metadata": {
        "id": "Tg8erU4izFTA"
      },
      "outputs": [],
      "source": []
    }
  ]
}