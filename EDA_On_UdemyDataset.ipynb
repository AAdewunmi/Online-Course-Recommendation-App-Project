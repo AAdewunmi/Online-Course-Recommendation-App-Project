{
  "nbformat": 4,
  "nbformat_minor": 0,
  "metadata": {
    "colab": {
      "provenance": [],
      "authorship_tag": "ABX9TyN0/Khw5rkkj78htpR1xepz",
      "include_colab_link": true
    },
    "kernelspec": {
      "name": "python3",
      "display_name": "Python 3"
    },
    "language_info": {
      "name": "python"
    }
  },
  "cells": [
    {
      "cell_type": "markdown",
      "metadata": {
        "id": "view-in-github",
        "colab_type": "text"
      },
      "source": [
        "<a href=\"https://colab.research.google.com/github/AAdewunmi/Online-Course-Recommendation-App-Project/blob/main/EDA_On_UdemyDataset.ipynb\" target=\"_parent\"><img src=\"https://colab.research.google.com/assets/colab-badge.svg\" alt=\"Open In Colab\"/></a>"
      ]
    },
    {
      "cell_type": "markdown",
      "source": [
        "\n",
        "\n",
        "# Udemy Dataset Exploratory Data Analysis (EDA) README\n",
        "\n",
        "## Overview\n",
        "\n",
        "This project performs **Exploratory Data Analysis (EDA)** on a Udemy courses dataset. The goal is to uncover insights about course content, pricing, subscribers, and trends across time and categories. The analysis leverages Python’s data analysis stack to answer a set of guiding business and product questions.\n",
        "\n",
        "## Objectives\n",
        "\n",
        "The notebook investigates questions such as:\n",
        "\n",
        "* **Course Titles**: frequent words, longest/shortest titles, title-based recommendation ideas.\n",
        "* **Subjects/Categories**: distribution across categories, popularity trends per year, subscriber preferences.\n",
        "* **Published Year**: growth of courses over time, identification of peak years.\n",
        "* **Levels**: distribution of course difficulty levels and their popularity.\n",
        "* **Duration**: how course length correlates with subscribers and pricing.\n",
        "* **Subscribers**: most popular courses, average subscribers, breakdown per subject/year.\n",
        "* **Pricing**: average, minimum, maximum prices, revenue estimates, most profitable courses.\n",
        "* **Correlations**: relationship between subscribers and reviews, price, lectures, and duration.\n",
        "\n",
        "## Tech Stack\n",
        "\n",
        "* **Python 3.x**\n",
        "* **Jupyter Notebook**\n",
        "* Libraries:\n",
        "\n",
        "  * `pandas` for data manipulation\n",
        "  * `numpy` for numerical analysis\n",
        "  * `matplotlib` / `seaborn` for visualization\n",
        "\n",
        "## Repository Contents\n",
        "\n",
        "* `EDA on UdemyDataset.ipynb` – the main notebook with all analysis and visualizations.\n",
        "* `README.md` – this documentation.\n",
        "\n",
        "## How to Run\n",
        "\n",
        "1. Clone this repository.\n",
        "2. Install dependencies:\n",
        "\n",
        "   ```bash\n",
        "   pip install pandas numpy matplotlib seaborn jupyter\n",
        "   ```\n",
        "3. Launch Jupyter Notebook:\n",
        "\n",
        "   ```bash\n",
        "   jupyter notebook\n",
        "   ```\n",
        "4. Open and run all cells in `EDA on UdemyDataset.ipynb`.\n",
        "\n",
        "## Insights (Expected Outcomes)\n",
        "\n",
        "* Identification of which subjects and years drive Udemy’s growth.\n",
        "* Understanding of how pricing and duration influence subscriber numbers.\n",
        "* Discovery of correlations between course metrics (reviews, lectures, duration, price) and popularity.\n",
        "* Recommendations for content strategy and pricing models.\n",
        "\n",
        "---\n",
        "\n"
      ],
      "metadata": {
        "id": "oAbA0iGBJ9xn"
      }
    },
    {
      "cell_type": "markdown",
      "source": [
        "\n",
        "#**Exploratory Data Analysis on UdemyCleanedTitle Dataset**\n",
        "\n",
        "**Questions to Solve**\n",
        "\n",
        "* Course Title\n",
        "\n",
        "  * What is the most frequent words in course title\n",
        "  * Longest/Shortest course title\n",
        "  * How can we build recommendation systems via title using similarity\n",
        "  * Most famous courses by number of subscribers\n",
        "\n",
        "* Subjects/Category\n",
        "\n",
        "  * What is the distribution of subjects\n",
        "  * How many courses per subject\n",
        "  * Distribution of subjects per year\n",
        "  * How many people purchase a particular subject\n",
        "  * Which subject is the most popular\n",
        "\n",
        "* Published Year\n",
        "\n",
        "  * Number of courses per year\n",
        "  * Which year has the highest number of courses\n",
        "  * What is the trend of courses per year\n",
        "\n",
        "* Levels\n",
        "\n",
        "  * How many levels do we have\n",
        "  * What is the distribution of courses per levels\n",
        "  * Which subject have the highest levels\n",
        "  * How many subscribers per levels\n",
        "  * How many courses per levels\n",
        "\n",
        "* Duration of Course\n",
        "\n",
        "  * Which courses have the highest duration (paid or not)\n",
        "  * Which courses have higher duration\n",
        "  * Duration vs number of subscribers\n",
        "\n",
        "* Subscribers\n",
        "\n",
        "  * Which course have the highest number of subscribers\n",
        "  * Average number of subscribers\n",
        "  * Number of subscribers per Subject\n",
        "  * Number of subscribers per year\n",
        "\n",
        "* Price\n",
        "\n",
        "  * What is the average price of a course\n",
        "  * What is the min/max price\n",
        "  * How much does Udemy earn\n",
        "  * The most profitable courses\n",
        "\n",
        "* Correlation Questions\n",
        "\n",
        "  * Does number of subscribers depend on\n",
        "  * number of reviews\n",
        "  * price\n",
        "  * number of lectures\n",
        "  * content duration"
      ],
      "metadata": {
        "id": "oiZx2C6jFfH_"
      }
    },
    {
      "cell_type": "code",
      "execution_count": null,
      "metadata": {
        "id": "Tg8erU4izFTA"
      },
      "outputs": [],
      "source": [
        "# Import libraries\n",
        "\n",
        "import pandas as pd\n",
        "import numpy as np\n",
        "import seaborn as sn\n",
        "import matplotlib.pyplot as plt\n",
        "%matplotlib inline"
      ]
    },
    {
      "cell_type": "code",
      "source": [
        "# Read file and print first 5 rows\n",
        "\n",
        "df = pd.read_csv('sample_data/udemy_course_data.csv')\n",
        "df.head()"
      ],
      "metadata": {
        "colab": {
          "base_uri": "https://localhost:8080/",
          "height": 539
        },
        "id": "XQjXAyoTezQh",
        "outputId": "8d7825a5-98a8-4a7c-c5ca-de5157525747"
      },
      "execution_count": null,
      "outputs": [
        {
          "output_type": "execute_result",
          "data": {
            "text/plain": [
              "   course_id                                       course_title  \\\n",
              "0    1070968                 Ultimate Investment Banking Course   \n",
              "1    1113822  Complete GST Course & Certification - Grow You...   \n",
              "2    1006314  Financial Modeling for Business Analysts and C...   \n",
              "3    1210588  Beginner to Pro - Financial Analysis in Excel ...   \n",
              "4    1011058       How To Maximize Your Profits Trading Options   \n",
              "\n",
              "                                                 url  is_paid  price  \\\n",
              "0  https://www.udemy.com/ultimate-investment-bank...     True    200   \n",
              "1      https://www.udemy.com/goods-and-services-tax/     True     75   \n",
              "2  https://www.udemy.com/financial-modeling-for-b...     True     45   \n",
              "3  https://www.udemy.com/complete-excel-finance-c...     True     95   \n",
              "4  https://www.udemy.com/how-to-maximize-your-pro...     True    200   \n",
              "\n",
              "   num_subscribers  num_reviews  num_lectures               level  \\\n",
              "0             2147           23            51          All Levels   \n",
              "1             2792          923           274          All Levels   \n",
              "2             2174           74            51  Intermediate Level   \n",
              "3             2451           11            36          All Levels   \n",
              "4             1276           45            26  Intermediate Level   \n",
              "\n",
              "  content_duration   published_timestamp           subject  profit  \\\n",
              "0        1.5 hours  2017-01-18T20:58:58Z  Business Finance  429400   \n",
              "1         39 hours  2017-03-09T16:34:20Z  Business Finance  209400   \n",
              "2        2.5 hours  2016-12-19T19:26:30Z  Business Finance   97830   \n",
              "3          3 hours  2017-05-30T20:07:24Z  Business Finance  232845   \n",
              "4          2 hours  2016-12-13T14:57:18Z  Business Finance  255200   \n",
              "\n",
              "  published_date published_time  year  month  day  \n",
              "0     2017-01-18      20:58:58Z  2017      1   18  \n",
              "1     2017-03-09      16:34:20Z  2017      3    9  \n",
              "2     2016-12-19      19:26:30Z  2016     12   19  \n",
              "3     2017-05-30      20:07:24Z  2017      5   30  \n",
              "4     2016-12-13      14:57:18Z  2016     12   13  "
            ],
            "text/html": [
              "\n",
              "  <div id=\"df-c484c1cd-542a-4e94-9d21-b2c725ac9bca\" class=\"colab-df-container\">\n",
              "    <div>\n",
              "<style scoped>\n",
              "    .dataframe tbody tr th:only-of-type {\n",
              "        vertical-align: middle;\n",
              "    }\n",
              "\n",
              "    .dataframe tbody tr th {\n",
              "        vertical-align: top;\n",
              "    }\n",
              "\n",
              "    .dataframe thead th {\n",
              "        text-align: right;\n",
              "    }\n",
              "</style>\n",
              "<table border=\"1\" class=\"dataframe\">\n",
              "  <thead>\n",
              "    <tr style=\"text-align: right;\">\n",
              "      <th></th>\n",
              "      <th>course_id</th>\n",
              "      <th>course_title</th>\n",
              "      <th>url</th>\n",
              "      <th>is_paid</th>\n",
              "      <th>price</th>\n",
              "      <th>num_subscribers</th>\n",
              "      <th>num_reviews</th>\n",
              "      <th>num_lectures</th>\n",
              "      <th>level</th>\n",
              "      <th>content_duration</th>\n",
              "      <th>published_timestamp</th>\n",
              "      <th>subject</th>\n",
              "      <th>profit</th>\n",
              "      <th>published_date</th>\n",
              "      <th>published_time</th>\n",
              "      <th>year</th>\n",
              "      <th>month</th>\n",
              "      <th>day</th>\n",
              "    </tr>\n",
              "  </thead>\n",
              "  <tbody>\n",
              "    <tr>\n",
              "      <th>0</th>\n",
              "      <td>1070968</td>\n",
              "      <td>Ultimate Investment Banking Course</td>\n",
              "      <td>https://www.udemy.com/ultimate-investment-bank...</td>\n",
              "      <td>True</td>\n",
              "      <td>200</td>\n",
              "      <td>2147</td>\n",
              "      <td>23</td>\n",
              "      <td>51</td>\n",
              "      <td>All Levels</td>\n",
              "      <td>1.5 hours</td>\n",
              "      <td>2017-01-18T20:58:58Z</td>\n",
              "      <td>Business Finance</td>\n",
              "      <td>429400</td>\n",
              "      <td>2017-01-18</td>\n",
              "      <td>20:58:58Z</td>\n",
              "      <td>2017</td>\n",
              "      <td>1</td>\n",
              "      <td>18</td>\n",
              "    </tr>\n",
              "    <tr>\n",
              "      <th>1</th>\n",
              "      <td>1113822</td>\n",
              "      <td>Complete GST Course &amp; Certification - Grow You...</td>\n",
              "      <td>https://www.udemy.com/goods-and-services-tax/</td>\n",
              "      <td>True</td>\n",
              "      <td>75</td>\n",
              "      <td>2792</td>\n",
              "      <td>923</td>\n",
              "      <td>274</td>\n",
              "      <td>All Levels</td>\n",
              "      <td>39 hours</td>\n",
              "      <td>2017-03-09T16:34:20Z</td>\n",
              "      <td>Business Finance</td>\n",
              "      <td>209400</td>\n",
              "      <td>2017-03-09</td>\n",
              "      <td>16:34:20Z</td>\n",
              "      <td>2017</td>\n",
              "      <td>3</td>\n",
              "      <td>9</td>\n",
              "    </tr>\n",
              "    <tr>\n",
              "      <th>2</th>\n",
              "      <td>1006314</td>\n",
              "      <td>Financial Modeling for Business Analysts and C...</td>\n",
              "      <td>https://www.udemy.com/financial-modeling-for-b...</td>\n",
              "      <td>True</td>\n",
              "      <td>45</td>\n",
              "      <td>2174</td>\n",
              "      <td>74</td>\n",
              "      <td>51</td>\n",
              "      <td>Intermediate Level</td>\n",
              "      <td>2.5 hours</td>\n",
              "      <td>2016-12-19T19:26:30Z</td>\n",
              "      <td>Business Finance</td>\n",
              "      <td>97830</td>\n",
              "      <td>2016-12-19</td>\n",
              "      <td>19:26:30Z</td>\n",
              "      <td>2016</td>\n",
              "      <td>12</td>\n",
              "      <td>19</td>\n",
              "    </tr>\n",
              "    <tr>\n",
              "      <th>3</th>\n",
              "      <td>1210588</td>\n",
              "      <td>Beginner to Pro - Financial Analysis in Excel ...</td>\n",
              "      <td>https://www.udemy.com/complete-excel-finance-c...</td>\n",
              "      <td>True</td>\n",
              "      <td>95</td>\n",
              "      <td>2451</td>\n",
              "      <td>11</td>\n",
              "      <td>36</td>\n",
              "      <td>All Levels</td>\n",
              "      <td>3 hours</td>\n",
              "      <td>2017-05-30T20:07:24Z</td>\n",
              "      <td>Business Finance</td>\n",
              "      <td>232845</td>\n",
              "      <td>2017-05-30</td>\n",
              "      <td>20:07:24Z</td>\n",
              "      <td>2017</td>\n",
              "      <td>5</td>\n",
              "      <td>30</td>\n",
              "    </tr>\n",
              "    <tr>\n",
              "      <th>4</th>\n",
              "      <td>1011058</td>\n",
              "      <td>How To Maximize Your Profits Trading Options</td>\n",
              "      <td>https://www.udemy.com/how-to-maximize-your-pro...</td>\n",
              "      <td>True</td>\n",
              "      <td>200</td>\n",
              "      <td>1276</td>\n",
              "      <td>45</td>\n",
              "      <td>26</td>\n",
              "      <td>Intermediate Level</td>\n",
              "      <td>2 hours</td>\n",
              "      <td>2016-12-13T14:57:18Z</td>\n",
              "      <td>Business Finance</td>\n",
              "      <td>255200</td>\n",
              "      <td>2016-12-13</td>\n",
              "      <td>14:57:18Z</td>\n",
              "      <td>2016</td>\n",
              "      <td>12</td>\n",
              "      <td>13</td>\n",
              "    </tr>\n",
              "  </tbody>\n",
              "</table>\n",
              "</div>\n",
              "    <div class=\"colab-df-buttons\">\n",
              "\n",
              "  <div class=\"colab-df-container\">\n",
              "    <button class=\"colab-df-convert\" onclick=\"convertToInteractive('df-c484c1cd-542a-4e94-9d21-b2c725ac9bca')\"\n",
              "            title=\"Convert this dataframe to an interactive table.\"\n",
              "            style=\"display:none;\">\n",
              "\n",
              "  <svg xmlns=\"http://www.w3.org/2000/svg\" height=\"24px\" viewBox=\"0 -960 960 960\">\n",
              "    <path d=\"M120-120v-720h720v720H120Zm60-500h600v-160H180v160Zm220 220h160v-160H400v160Zm0 220h160v-160H400v160ZM180-400h160v-160H180v160Zm440 0h160v-160H620v160ZM180-180h160v-160H180v160Zm440 0h160v-160H620v160Z\"/>\n",
              "  </svg>\n",
              "    </button>\n",
              "\n",
              "  <style>\n",
              "    .colab-df-container {\n",
              "      display:flex;\n",
              "      gap: 12px;\n",
              "    }\n",
              "\n",
              "    .colab-df-convert {\n",
              "      background-color: #E8F0FE;\n",
              "      border: none;\n",
              "      border-radius: 50%;\n",
              "      cursor: pointer;\n",
              "      display: none;\n",
              "      fill: #1967D2;\n",
              "      height: 32px;\n",
              "      padding: 0 0 0 0;\n",
              "      width: 32px;\n",
              "    }\n",
              "\n",
              "    .colab-df-convert:hover {\n",
              "      background-color: #E2EBFA;\n",
              "      box-shadow: 0px 1px 2px rgba(60, 64, 67, 0.3), 0px 1px 3px 1px rgba(60, 64, 67, 0.15);\n",
              "      fill: #174EA6;\n",
              "    }\n",
              "\n",
              "    .colab-df-buttons div {\n",
              "      margin-bottom: 4px;\n",
              "    }\n",
              "\n",
              "    [theme=dark] .colab-df-convert {\n",
              "      background-color: #3B4455;\n",
              "      fill: #D2E3FC;\n",
              "    }\n",
              "\n",
              "    [theme=dark] .colab-df-convert:hover {\n",
              "      background-color: #434B5C;\n",
              "      box-shadow: 0px 1px 3px 1px rgba(0, 0, 0, 0.15);\n",
              "      filter: drop-shadow(0px 1px 2px rgba(0, 0, 0, 0.3));\n",
              "      fill: #FFFFFF;\n",
              "    }\n",
              "  </style>\n",
              "\n",
              "    <script>\n",
              "      const buttonEl =\n",
              "        document.querySelector('#df-c484c1cd-542a-4e94-9d21-b2c725ac9bca button.colab-df-convert');\n",
              "      buttonEl.style.display =\n",
              "        google.colab.kernel.accessAllowed ? 'block' : 'none';\n",
              "\n",
              "      async function convertToInteractive(key) {\n",
              "        const element = document.querySelector('#df-c484c1cd-542a-4e94-9d21-b2c725ac9bca');\n",
              "        const dataTable =\n",
              "          await google.colab.kernel.invokeFunction('convertToInteractive',\n",
              "                                                    [key], {});\n",
              "        if (!dataTable) return;\n",
              "\n",
              "        const docLinkHtml = 'Like what you see? Visit the ' +\n",
              "          '<a target=\"_blank\" href=https://colab.research.google.com/notebooks/data_table.ipynb>data table notebook</a>'\n",
              "          + ' to learn more about interactive tables.';\n",
              "        element.innerHTML = '';\n",
              "        dataTable['output_type'] = 'display_data';\n",
              "        await google.colab.output.renderOutput(dataTable, element);\n",
              "        const docLink = document.createElement('div');\n",
              "        docLink.innerHTML = docLinkHtml;\n",
              "        element.appendChild(docLink);\n",
              "      }\n",
              "    </script>\n",
              "  </div>\n",
              "\n",
              "\n",
              "    <div id=\"df-d479a2a4-ee3d-4983-bb43-6095b464cc95\">\n",
              "      <button class=\"colab-df-quickchart\" onclick=\"quickchart('df-d479a2a4-ee3d-4983-bb43-6095b464cc95')\"\n",
              "                title=\"Suggest charts\"\n",
              "                style=\"display:none;\">\n",
              "\n",
              "<svg xmlns=\"http://www.w3.org/2000/svg\" height=\"24px\"viewBox=\"0 0 24 24\"\n",
              "     width=\"24px\">\n",
              "    <g>\n",
              "        <path d=\"M19 3H5c-1.1 0-2 .9-2 2v14c0 1.1.9 2 2 2h14c1.1 0 2-.9 2-2V5c0-1.1-.9-2-2-2zM9 17H7v-7h2v7zm4 0h-2V7h2v10zm4 0h-2v-4h2v4z\"/>\n",
              "    </g>\n",
              "</svg>\n",
              "      </button>\n",
              "\n",
              "<style>\n",
              "  .colab-df-quickchart {\n",
              "      --bg-color: #E8F0FE;\n",
              "      --fill-color: #1967D2;\n",
              "      --hover-bg-color: #E2EBFA;\n",
              "      --hover-fill-color: #174EA6;\n",
              "      --disabled-fill-color: #AAA;\n",
              "      --disabled-bg-color: #DDD;\n",
              "  }\n",
              "\n",
              "  [theme=dark] .colab-df-quickchart {\n",
              "      --bg-color: #3B4455;\n",
              "      --fill-color: #D2E3FC;\n",
              "      --hover-bg-color: #434B5C;\n",
              "      --hover-fill-color: #FFFFFF;\n",
              "      --disabled-bg-color: #3B4455;\n",
              "      --disabled-fill-color: #666;\n",
              "  }\n",
              "\n",
              "  .colab-df-quickchart {\n",
              "    background-color: var(--bg-color);\n",
              "    border: none;\n",
              "    border-radius: 50%;\n",
              "    cursor: pointer;\n",
              "    display: none;\n",
              "    fill: var(--fill-color);\n",
              "    height: 32px;\n",
              "    padding: 0;\n",
              "    width: 32px;\n",
              "  }\n",
              "\n",
              "  .colab-df-quickchart:hover {\n",
              "    background-color: var(--hover-bg-color);\n",
              "    box-shadow: 0 1px 2px rgba(60, 64, 67, 0.3), 0 1px 3px 1px rgba(60, 64, 67, 0.15);\n",
              "    fill: var(--button-hover-fill-color);\n",
              "  }\n",
              "\n",
              "  .colab-df-quickchart-complete:disabled,\n",
              "  .colab-df-quickchart-complete:disabled:hover {\n",
              "    background-color: var(--disabled-bg-color);\n",
              "    fill: var(--disabled-fill-color);\n",
              "    box-shadow: none;\n",
              "  }\n",
              "\n",
              "  .colab-df-spinner {\n",
              "    border: 2px solid var(--fill-color);\n",
              "    border-color: transparent;\n",
              "    border-bottom-color: var(--fill-color);\n",
              "    animation:\n",
              "      spin 1s steps(1) infinite;\n",
              "  }\n",
              "\n",
              "  @keyframes spin {\n",
              "    0% {\n",
              "      border-color: transparent;\n",
              "      border-bottom-color: var(--fill-color);\n",
              "      border-left-color: var(--fill-color);\n",
              "    }\n",
              "    20% {\n",
              "      border-color: transparent;\n",
              "      border-left-color: var(--fill-color);\n",
              "      border-top-color: var(--fill-color);\n",
              "    }\n",
              "    30% {\n",
              "      border-color: transparent;\n",
              "      border-left-color: var(--fill-color);\n",
              "      border-top-color: var(--fill-color);\n",
              "      border-right-color: var(--fill-color);\n",
              "    }\n",
              "    40% {\n",
              "      border-color: transparent;\n",
              "      border-right-color: var(--fill-color);\n",
              "      border-top-color: var(--fill-color);\n",
              "    }\n",
              "    60% {\n",
              "      border-color: transparent;\n",
              "      border-right-color: var(--fill-color);\n",
              "    }\n",
              "    80% {\n",
              "      border-color: transparent;\n",
              "      border-right-color: var(--fill-color);\n",
              "      border-bottom-color: var(--fill-color);\n",
              "    }\n",
              "    90% {\n",
              "      border-color: transparent;\n",
              "      border-bottom-color: var(--fill-color);\n",
              "    }\n",
              "  }\n",
              "</style>\n",
              "\n",
              "      <script>\n",
              "        async function quickchart(key) {\n",
              "          const quickchartButtonEl =\n",
              "            document.querySelector('#' + key + ' button');\n",
              "          quickchartButtonEl.disabled = true;  // To prevent multiple clicks.\n",
              "          quickchartButtonEl.classList.add('colab-df-spinner');\n",
              "          try {\n",
              "            const charts = await google.colab.kernel.invokeFunction(\n",
              "                'suggestCharts', [key], {});\n",
              "          } catch (error) {\n",
              "            console.error('Error during call to suggestCharts:', error);\n",
              "          }\n",
              "          quickchartButtonEl.classList.remove('colab-df-spinner');\n",
              "          quickchartButtonEl.classList.add('colab-df-quickchart-complete');\n",
              "        }\n",
              "        (() => {\n",
              "          let quickchartButtonEl =\n",
              "            document.querySelector('#df-d479a2a4-ee3d-4983-bb43-6095b464cc95 button');\n",
              "          quickchartButtonEl.style.display =\n",
              "            google.colab.kernel.accessAllowed ? 'block' : 'none';\n",
              "        })();\n",
              "      </script>\n",
              "    </div>\n",
              "\n",
              "    </div>\n",
              "  </div>\n"
            ],
            "application/vnd.google.colaboratory.intrinsic+json": {
              "type": "dataframe",
              "variable_name": "df",
              "summary": "{\n  \"name\": \"df\",\n  \"rows\": 3683,\n  \"fields\": [\n    {\n      \"column\": \"course_id\",\n      \"properties\": {\n        \"dtype\": \"number\",\n        \"std\": 343721,\n        \"min\": 8324,\n        \"max\": 1282064,\n        \"num_unique_values\": 3677,\n        \"samples\": [\n          608436,\n          771044,\n          723878\n        ],\n        \"semantic_type\": \"\",\n        \"description\": \"\"\n      }\n    },\n    {\n      \"column\": \"course_title\",\n      \"properties\": {\n        \"dtype\": \"string\",\n        \"num_unique_values\": 3668,\n        \"samples\": [\n          \"Build a DCF Valuation Model\",\n          \"Learn How to Manage & Customize  Web Sites By Drupal CMS\",\n          \"Angular 2 + Rails 5 Bootcamp\"\n        ],\n        \"semantic_type\": \"\",\n        \"description\": \"\"\n      }\n    },\n    {\n      \"column\": \"url\",\n      \"properties\": {\n        \"dtype\": \"string\",\n        \"num_unique_values\": 3677,\n        \"samples\": [\n          \"https://www.udemy.com/presentation-du-banjo-tenor/\",\n          \"https://www.udemy.com/make-money-with-photoshop-logos-business-cards-brochures/\",\n          \"https://www.udemy.com/bootstrap-4-beginners-code-a-responsive-landing-page/\"\n        ],\n        \"semantic_type\": \"\",\n        \"description\": \"\"\n      }\n    },\n    {\n      \"column\": \"is_paid\",\n      \"properties\": {\n        \"dtype\": \"boolean\",\n        \"num_unique_values\": 2,\n        \"samples\": [\n          false,\n          true\n        ],\n        \"semantic_type\": \"\",\n        \"description\": \"\"\n      }\n    },\n    {\n      \"column\": \"price\",\n      \"properties\": {\n        \"dtype\": \"number\",\n        \"std\": 60,\n        \"min\": 0,\n        \"max\": 200,\n        \"num_unique_values\": 38,\n        \"samples\": [\n          130,\n          110\n        ],\n        \"semantic_type\": \"\",\n        \"description\": \"\"\n      }\n    },\n    {\n      \"column\": \"num_subscribers\",\n      \"properties\": {\n        \"dtype\": \"number\",\n        \"std\": 9498,\n        \"min\": 0,\n        \"max\": 268923,\n        \"num_unique_values\": 2198,\n        \"samples\": [\n          375,\n          922\n        ],\n        \"semantic_type\": \"\",\n        \"description\": \"\"\n      }\n    },\n    {\n      \"column\": \"num_reviews\",\n      \"properties\": {\n        \"dtype\": \"number\",\n        \"std\": 935,\n        \"min\": 0,\n        \"max\": 27445,\n        \"num_unique_values\": 511,\n        \"samples\": [\n          265,\n          66\n        ],\n        \"semantic_type\": \"\",\n        \"description\": \"\"\n      }\n    },\n    {\n      \"column\": \"num_lectures\",\n      \"properties\": {\n        \"dtype\": \"number\",\n        \"std\": 50,\n        \"min\": 0,\n        \"max\": 779,\n        \"num_unique_values\": 229,\n        \"samples\": [\n          342,\n          55\n        ],\n        \"semantic_type\": \"\",\n        \"description\": \"\"\n      }\n    },\n    {\n      \"column\": \"level\",\n      \"properties\": {\n        \"dtype\": \"category\",\n        \"num_unique_values\": 5,\n        \"samples\": [\n          \"Intermediate Level\",\n          \"52\"\n        ],\n        \"semantic_type\": \"\",\n        \"description\": \"\"\n      }\n    },\n    {\n      \"column\": \"content_duration\",\n      \"properties\": {\n        \"dtype\": \"category\",\n        \"num_unique_values\": 110,\n        \"samples\": [\n          \"16.5 hours\",\n          \"4.5 hours\"\n        ],\n        \"semantic_type\": \"\",\n        \"description\": \"\"\n      }\n    },\n    {\n      \"column\": \"published_timestamp\",\n      \"properties\": {\n        \"dtype\": \"string\",\n        \"num_unique_values\": 3677,\n        \"samples\": [\n          \"2015-09-13T23:49:34Z\",\n          \"2016-08-14T22:05:04Z\"\n        ],\n        \"semantic_type\": \"\",\n        \"description\": \"\"\n      }\n    },\n    {\n      \"column\": \"subject\",\n      \"properties\": {\n        \"dtype\": \"category\",\n        \"num_unique_values\": 4,\n        \"samples\": [\n          \"Graphic Design\",\n          \"Web Development\"\n        ],\n        \"semantic_type\": \"\",\n        \"description\": \"\"\n      }\n    },\n    {\n      \"column\": \"profit\",\n      \"properties\": {\n        \"dtype\": \"number\",\n        \"std\": 1000759,\n        \"min\": 0,\n        \"max\": 24316800,\n        \"num_unique_values\": 2534,\n        \"samples\": [\n          46930,\n          37480\n        ],\n        \"semantic_type\": \"\",\n        \"description\": \"\"\n      }\n    },\n    {\n      \"column\": \"published_date\",\n      \"properties\": {\n        \"dtype\": \"object\",\n        \"num_unique_values\": 1210,\n        \"samples\": [\n          \"2016-08-05\",\n          \"2015-08-31\"\n        ],\n        \"semantic_type\": \"\",\n        \"description\": \"\"\n      }\n    },\n    {\n      \"column\": \"published_time\",\n      \"properties\": {\n        \"dtype\": \"object\",\n        \"num_unique_values\": 3552,\n        \"samples\": [\n          \"06:58:27Z\",\n          \"17:51:41Z\"\n        ],\n        \"semantic_type\": \"\",\n        \"description\": \"\"\n      }\n    },\n    {\n      \"column\": \"year\",\n      \"properties\": {\n        \"dtype\": \"number\",\n        \"std\": 1,\n        \"min\": 2011,\n        \"max\": 2017,\n        \"num_unique_values\": 7,\n        \"samples\": [\n          2017,\n          2016\n        ],\n        \"semantic_type\": \"\",\n        \"description\": \"\"\n      }\n    },\n    {\n      \"column\": \"month\",\n      \"properties\": {\n        \"dtype\": \"number\",\n        \"std\": 3,\n        \"min\": 1,\n        \"max\": 12,\n        \"num_unique_values\": 12,\n        \"samples\": [\n          11,\n          8\n        ],\n        \"semantic_type\": \"\",\n        \"description\": \"\"\n      }\n    },\n    {\n      \"column\": \"day\",\n      \"properties\": {\n        \"dtype\": \"number\",\n        \"std\": 8,\n        \"min\": 1,\n        \"max\": 31,\n        \"num_unique_values\": 31,\n        \"samples\": [\n          7,\n          26\n        ],\n        \"semantic_type\": \"\",\n        \"description\": \"\"\n      }\n    }\n  ]\n}"
            }
          },
          "metadata": {},
          "execution_count": 2
        }
      ]
    },
    {
      "cell_type": "code",
      "source": [
        "# Print a concise summary of a DataFrame.\n",
        "\n",
        "df.info()"
      ],
      "metadata": {
        "colab": {
          "base_uri": "https://localhost:8080/"
        },
        "id": "Z0rZfHhcl1XS",
        "outputId": "93618a95-34fe-47e3-f0e0-1a6cb2ef0b30"
      },
      "execution_count": null,
      "outputs": [
        {
          "output_type": "stream",
          "name": "stdout",
          "text": [
            "<class 'pandas.core.frame.DataFrame'>\n",
            "RangeIndex: 3683 entries, 0 to 3682\n",
            "Data columns (total 18 columns):\n",
            " #   Column               Non-Null Count  Dtype \n",
            "---  ------               --------------  ----- \n",
            " 0   course_id            3683 non-null   int64 \n",
            " 1   course_title         3683 non-null   object\n",
            " 2   url                  3683 non-null   object\n",
            " 3   is_paid              3683 non-null   bool  \n",
            " 4   price                3683 non-null   int64 \n",
            " 5   num_subscribers      3683 non-null   int64 \n",
            " 6   num_reviews          3683 non-null   int64 \n",
            " 7   num_lectures         3683 non-null   int64 \n",
            " 8   level                3683 non-null   object\n",
            " 9   content_duration     3683 non-null   object\n",
            " 10  published_timestamp  3683 non-null   object\n",
            " 11  subject              3683 non-null   object\n",
            " 12  profit               3683 non-null   int64 \n",
            " 13  published_date       3683 non-null   object\n",
            " 14  published_time       3682 non-null   object\n",
            " 15  year                 3683 non-null   int64 \n",
            " 16  month                3683 non-null   int64 \n",
            " 17  day                  3683 non-null   int64 \n",
            "dtypes: bool(1), int64(9), object(8)\n",
            "memory usage: 492.9+ KB\n"
          ]
        }
      ]
    },
    {
      "cell_type": "markdown",
      "source": [
        "#**EDA on Subject/Category**\n",
        "\n",
        "* Subjects/Category\n",
        "  * What is the distribution of subjects\n",
        "  * How many courses per subject\n",
        "  * Distribution of subjects per year\n",
        "  * How many people purchase a particular subject\n",
        "  * Which subject is the most popular"
      ],
      "metadata": {
        "id": "oU0PaqaE50MT"
      }
    },
    {
      "cell_type": "code",
      "source": [
        "# Count unique course titles\n",
        "\n",
        "len(df['course_title'].unique())"
      ],
      "metadata": {
        "colab": {
          "base_uri": "https://localhost:8080/"
        },
        "id": "9iqJOLeB6mJU",
        "outputId": "60d6aba5-c097-4b26-b276-7bf434bc55d7"
      },
      "execution_count": 4,
      "outputs": [
        {
          "output_type": "execute_result",
          "data": {
            "text/plain": [
              "3668"
            ]
          },
          "metadata": {},
          "execution_count": 4
        }
      ]
    },
    {
      "cell_type": "code",
      "source": [
        "# Visualisation for course subjects\n",
        "\n",
        "plt.figure(figsize=(15,7))\n",
        "sn.countplot(x=df['subject'],hue=df['subject'],legend=False,palette='plasma')"
      ],
      "metadata": {
        "colab": {
          "base_uri": "https://localhost:8080/",
          "height": 414
        },
        "id": "MD-C2uHF8ePh",
        "outputId": "bfbbe039-ab66-407e-f67a-28d5b0c6bb38"
      },
      "execution_count": 7,
      "outputs": [
        {
          "output_type": "execute_result",
          "data": {
            "text/plain": [
              "<Axes: xlabel='subject', ylabel='count'>"
            ]
          },
          "metadata": {},
          "execution_count": 7
        },
        {
          "output_type": "display_data",
          "data": {
            "text/plain": [
              "<Figure size 1500x700 with 1 Axes>"
            ],
            "image/png": "[encoded data removed]"
          },
          "metadata": {}
        }
      ]
    },
    {
      "cell_type": "code",
      "source": [
        "# Pie chart visualisation of subjects\n",
        "\n",
        "plt.figure(figsize=(10,5))\n",
        "df['subject'].value_counts().plot(kind='pie')\n",
        "plt.show()"
      ],
      "metadata": {
        "colab": {
          "base_uri": "https://localhost:8080/",
          "height": 422
        },
        "id": "uCFhvIw1_okv",
        "outputId": "86307a53-fffe-4b44-f835-882c829e5871"
      },
      "execution_count": 9,
      "outputs": [
        {
          "output_type": "display_data",
          "data": {
            "text/plain": [
              "<Figure size 1000x500 with 1 Axes>"
            ],
            "image/png": "[encoded data removed]"
          },
          "metadata": {}
        }
      ]
    },
    {
      "cell_type": "markdown",
      "source": [
        "#**EDA on Subscribers**\n",
        "* Subscribers\n",
        "  * Which course have the highest number of subscribers\n",
        "  * Average number of subscribers\n",
        "  * Number of subscribers per Subject\n",
        "  * Number of subscribers per year"
      ],
      "metadata": {
        "id": "ss7ZQPIVSM-u"
      }
    },
    {
      "cell_type": "code",
      "source": [
        "# Horizontal bar chart showing the number of courses\n",
        "# available for each subject\n",
        "\n",
        "df.groupby('subject')['num_subscribers'].count().plot(kind='barh')"
      ],
      "metadata": {
        "colab": {
          "base_uri": "https://localhost:8080/",
          "height": 448
        },
        "id": "9NVzDasYSB0u",
        "outputId": "c24986f2-e4e0-4873-b6af-0ee14a5a49c2"
      },
      "execution_count": 12,
      "outputs": [
        {
          "output_type": "execute_result",
          "data": {
            "text/plain": [
              "<Axes: ylabel='subject'>"
            ]
          },
          "metadata": {},
          "execution_count": 12
        },
        {
          "output_type": "display_data",
          "data": {
            "text/plain": [
              "<Figure size 640x480 with 1 Axes>"
            ],
            "image/png": "[encoded data removed]"
          },
          "metadata": {}
        }
      ]
    },
    {
      "cell_type": "code",
      "source": [
        "# Visualization for total subscribers by subject\"\n",
        "\n",
        "df.groupby('subject')['num_subscribers'].sum().plot(kind='barh')"
      ],
      "metadata": {
        "colab": {
          "base_uri": "https://localhost:8080/",
          "height": 466
        },
        "id": "hljHAUmeUD1N",
        "outputId": "ae42bd57-ca24-43b5-8f27-cd1fff1ef0e9"
      },
      "execution_count": 13,
      "outputs": [
        {
          "output_type": "execute_result",
          "data": {
            "text/plain": [
              "<Axes: ylabel='subject'>"
            ]
          },
          "metadata": {},
          "execution_count": 13
        },
        {
          "output_type": "display_data",
          "data": {
            "text/plain": [
              "<Figure size 640x480 with 1 Axes>"
            ],
            "image/png": "[encoded data removed]"
          },
          "metadata": {}
        }
      ]
    }
  ]
}